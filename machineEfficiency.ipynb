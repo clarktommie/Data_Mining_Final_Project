{
 "cells": [
  {
   "cell_type": "markdown",
   "id": "569108ea",
   "metadata": {},
   "source": [
    "# Machine Efficiency Prediction"
   ]
  },
  {
   "cell_type": "markdown",
   "id": "04362426",
   "metadata": {},
   "source": [
    "## Introduction\n"
   ]
  },
  {
   "cell_type": "markdown",
   "id": "f737e0f7",
   "metadata": {},
   "source": [
    "## IMPORTS"
   ]
  },
  {
   "cell_type": "code",
   "execution_count": 30,
   "id": "8b3ccb63",
   "metadata": {},
   "outputs": [],
   "source": [
    "# import libraries\n",
    "import pandas as pd\n",
    "import numpy as np\n",
    "import matplotlib.pyplot as plt\n",
    "import seaborn as sns\n",
    "import plotly.express as px\n",
    "import plotly.graph_objects as go\n",
    "from plotly.subplots import make_subplots\n"
   ]
  },
  {
   "cell_type": "markdown",
   "id": "0a757fe8",
   "metadata": {},
   "source": [
    "## Dataset\n",
    "- https://www.kaggle.com/datasets/ziya07/intelligent-manufacturing-dataset"
   ]
  },
  {
   "cell_type": "code",
   "execution_count": 31,
   "id": "35d06f2e",
   "metadata": {},
   "outputs": [
    {
     "data": {
      "application/vnd.microsoft.datawrangler.viewer.v0+json": {
       "columns": [
        {
         "name": "index",
         "rawType": "int64",
         "type": "integer"
        },
        {
         "name": "Timestamp",
         "rawType": "object",
         "type": "string"
        },
        {
         "name": "Machine_ID",
         "rawType": "int64",
         "type": "integer"
        },
        {
         "name": "Operation_Mode",
         "rawType": "object",
         "type": "string"
        },
        {
         "name": "Temperature_C",
         "rawType": "float64",
         "type": "float"
        },
        {
         "name": "Vibration_Hz",
         "rawType": "float64",
         "type": "float"
        },
        {
         "name": "Power_Consumption_kW",
         "rawType": "float64",
         "type": "float"
        },
        {
         "name": "Network_Latency_ms",
         "rawType": "float64",
         "type": "float"
        },
        {
         "name": "Packet_Loss_%",
         "rawType": "float64",
         "type": "float"
        },
        {
         "name": "Quality_Control_Defect_Rate_%",
         "rawType": "float64",
         "type": "float"
        },
        {
         "name": "Production_Speed_units_per_hr",
         "rawType": "float64",
         "type": "float"
        },
        {
         "name": "Predictive_Maintenance_Score",
         "rawType": "float64",
         "type": "float"
        },
        {
         "name": "Error_Rate_%",
         "rawType": "float64",
         "type": "float"
        },
        {
         "name": "Efficiency_Status",
         "rawType": "object",
         "type": "string"
        }
       ],
       "conversionMethod": "pd.DataFrame",
       "ref": "9be53a8f-e9f7-41cb-a93f-c516a4df05d8",
       "rows": [
        [
         "0",
         "2024-01-01 00:00:00",
         "39",
         "Idle",
         "74.13758998750998",
         "3.5005952505668376",
         "8.61216228672771",
         "10.650541807495888",
         "0.2077642586521061",
         "7.75126066915425",
         "477.6573907044127",
         "0.344650285712311",
         "14.96546993501487",
         "Low"
        ],
        [
         "1",
         "2024-01-01 00:01:00",
         "29",
         "Active",
         "84.26455838600123",
         "3.355927799532658",
         "2.268558727665701",
         "29.11181021637609",
         "2.22846358543766",
         "4.989172453658086",
         "398.1747469572252",
         "0.7698484383392469",
         "7.678270238860093",
         "Low"
        ],
        [
         "2",
         "2024-01-01 00:02:00",
         "15",
         "Active",
         "44.28010157113693",
         "2.0797660943098664",
         "6.144105398264381",
         "18.357292229650056",
         "1.639416214806451",
         "0.4568164053782064",
         "108.0749587029995",
         "0.9870863114008817",
         "8.198391135045167",
         "Low"
        ],
        [
         "3",
         "2024-01-01 00:03:00",
         "43",
         "Active",
         "40.5685019792109",
         "0.2982377623817641",
         "4.067825373478269",
         "29.15362894215821",
         "1.161020636843566",
         "4.5829735177627215",
         "329.5794095665588",
         "0.983390223525452",
         "2.7408470871373307",
         "Medium"
        ],
        [
         "4",
         "2024-01-01 00:04:00",
         "8",
         "Idle",
         "75.06381737005613",
         "0.3458101073578936",
         "6.225737023845363",
         "34.02919051771376",
         "4.796519646574453",
         "2.287716177150092",
         "159.11352502137987",
         "0.5731169659066233",
         "12.100686272703294",
         "Low"
        ]
       ],
       "shape": {
        "columns": 13,
        "rows": 5
       }
      },
      "text/html": [
       "<div>\n",
       "<style scoped>\n",
       "    .dataframe tbody tr th:only-of-type {\n",
       "        vertical-align: middle;\n",
       "    }\n",
       "\n",
       "    .dataframe tbody tr th {\n",
       "        vertical-align: top;\n",
       "    }\n",
       "\n",
       "    .dataframe thead th {\n",
       "        text-align: right;\n",
       "    }\n",
       "</style>\n",
       "<table border=\"1\" class=\"dataframe\">\n",
       "  <thead>\n",
       "    <tr style=\"text-align: right;\">\n",
       "      <th></th>\n",
       "      <th>Timestamp</th>\n",
       "      <th>Machine_ID</th>\n",
       "      <th>Operation_Mode</th>\n",
       "      <th>Temperature_C</th>\n",
       "      <th>Vibration_Hz</th>\n",
       "      <th>Power_Consumption_kW</th>\n",
       "      <th>Network_Latency_ms</th>\n",
       "      <th>Packet_Loss_%</th>\n",
       "      <th>Quality_Control_Defect_Rate_%</th>\n",
       "      <th>Production_Speed_units_per_hr</th>\n",
       "      <th>Predictive_Maintenance_Score</th>\n",
       "      <th>Error_Rate_%</th>\n",
       "      <th>Efficiency_Status</th>\n",
       "    </tr>\n",
       "  </thead>\n",
       "  <tbody>\n",
       "    <tr>\n",
       "      <th>0</th>\n",
       "      <td>2024-01-01 00:00:00</td>\n",
       "      <td>39</td>\n",
       "      <td>Idle</td>\n",
       "      <td>74.137590</td>\n",
       "      <td>3.500595</td>\n",
       "      <td>8.612162</td>\n",
       "      <td>10.650542</td>\n",
       "      <td>0.207764</td>\n",
       "      <td>7.751261</td>\n",
       "      <td>477.657391</td>\n",
       "      <td>0.344650</td>\n",
       "      <td>14.965470</td>\n",
       "      <td>Low</td>\n",
       "    </tr>\n",
       "    <tr>\n",
       "      <th>1</th>\n",
       "      <td>2024-01-01 00:01:00</td>\n",
       "      <td>29</td>\n",
       "      <td>Active</td>\n",
       "      <td>84.264558</td>\n",
       "      <td>3.355928</td>\n",
       "      <td>2.268559</td>\n",
       "      <td>29.111810</td>\n",
       "      <td>2.228464</td>\n",
       "      <td>4.989172</td>\n",
       "      <td>398.174747</td>\n",
       "      <td>0.769848</td>\n",
       "      <td>7.678270</td>\n",
       "      <td>Low</td>\n",
       "    </tr>\n",
       "    <tr>\n",
       "      <th>2</th>\n",
       "      <td>2024-01-01 00:02:00</td>\n",
       "      <td>15</td>\n",
       "      <td>Active</td>\n",
       "      <td>44.280102</td>\n",
       "      <td>2.079766</td>\n",
       "      <td>6.144105</td>\n",
       "      <td>18.357292</td>\n",
       "      <td>1.639416</td>\n",
       "      <td>0.456816</td>\n",
       "      <td>108.074959</td>\n",
       "      <td>0.987086</td>\n",
       "      <td>8.198391</td>\n",
       "      <td>Low</td>\n",
       "    </tr>\n",
       "    <tr>\n",
       "      <th>3</th>\n",
       "      <td>2024-01-01 00:03:00</td>\n",
       "      <td>43</td>\n",
       "      <td>Active</td>\n",
       "      <td>40.568502</td>\n",
       "      <td>0.298238</td>\n",
       "      <td>4.067825</td>\n",
       "      <td>29.153629</td>\n",
       "      <td>1.161021</td>\n",
       "      <td>4.582974</td>\n",
       "      <td>329.579410</td>\n",
       "      <td>0.983390</td>\n",
       "      <td>2.740847</td>\n",
       "      <td>Medium</td>\n",
       "    </tr>\n",
       "    <tr>\n",
       "      <th>4</th>\n",
       "      <td>2024-01-01 00:04:00</td>\n",
       "      <td>8</td>\n",
       "      <td>Idle</td>\n",
       "      <td>75.063817</td>\n",
       "      <td>0.345810</td>\n",
       "      <td>6.225737</td>\n",
       "      <td>34.029191</td>\n",
       "      <td>4.796520</td>\n",
       "      <td>2.287716</td>\n",
       "      <td>159.113525</td>\n",
       "      <td>0.573117</td>\n",
       "      <td>12.100686</td>\n",
       "      <td>Low</td>\n",
       "    </tr>\n",
       "  </tbody>\n",
       "</table>\n",
       "</div>"
      ],
      "text/plain": [
       "             Timestamp  Machine_ID Operation_Mode  Temperature_C  \\\n",
       "0  2024-01-01 00:00:00          39           Idle      74.137590   \n",
       "1  2024-01-01 00:01:00          29         Active      84.264558   \n",
       "2  2024-01-01 00:02:00          15         Active      44.280102   \n",
       "3  2024-01-01 00:03:00          43         Active      40.568502   \n",
       "4  2024-01-01 00:04:00           8           Idle      75.063817   \n",
       "\n",
       "   Vibration_Hz  Power_Consumption_kW  Network_Latency_ms  Packet_Loss_%  \\\n",
       "0      3.500595              8.612162           10.650542       0.207764   \n",
       "1      3.355928              2.268559           29.111810       2.228464   \n",
       "2      2.079766              6.144105           18.357292       1.639416   \n",
       "3      0.298238              4.067825           29.153629       1.161021   \n",
       "4      0.345810              6.225737           34.029191       4.796520   \n",
       "\n",
       "   Quality_Control_Defect_Rate_%  Production_Speed_units_per_hr  \\\n",
       "0                       7.751261                     477.657391   \n",
       "1                       4.989172                     398.174747   \n",
       "2                       0.456816                     108.074959   \n",
       "3                       4.582974                     329.579410   \n",
       "4                       2.287716                     159.113525   \n",
       "\n",
       "   Predictive_Maintenance_Score  Error_Rate_% Efficiency_Status  \n",
       "0                      0.344650     14.965470               Low  \n",
       "1                      0.769848      7.678270               Low  \n",
       "2                      0.987086      8.198391               Low  \n",
       "3                      0.983390      2.740847            Medium  \n",
       "4                      0.573117     12.100686               Low  "
      ]
     },
     "execution_count": 31,
     "metadata": {},
     "output_type": "execute_result"
    }
   ],
   "source": [
    "# Load the dataset\n",
    "manufacturing_df = pd.read_csv('manufacturing_6G_dataset.csv')\n",
    "manufacturing_df.head()"
   ]
  },
  {
   "cell_type": "code",
   "execution_count": 32,
   "id": "0795f7cd",
   "metadata": {},
   "outputs": [
    {
     "name": "stdout",
     "output_type": "stream",
     "text": [
      "<class 'pandas.core.frame.DataFrame'>\n",
      "RangeIndex: 100000 entries, 0 to 99999\n",
      "Data columns (total 13 columns):\n",
      " #   Column                         Non-Null Count   Dtype  \n",
      "---  ------                         --------------   -----  \n",
      " 0   Timestamp                      100000 non-null  object \n",
      " 1   Machine_ID                     100000 non-null  int64  \n",
      " 2   Operation_Mode                 100000 non-null  object \n",
      " 3   Temperature_C                  100000 non-null  float64\n",
      " 4   Vibration_Hz                   100000 non-null  float64\n",
      " 5   Power_Consumption_kW           100000 non-null  float64\n",
      " 6   Network_Latency_ms             100000 non-null  float64\n",
      " 7   Packet_Loss_%                  100000 non-null  float64\n",
      " 8   Quality_Control_Defect_Rate_%  100000 non-null  float64\n",
      " 9   Production_Speed_units_per_hr  100000 non-null  float64\n",
      " 10  Predictive_Maintenance_Score   100000 non-null  float64\n",
      " 11  Error_Rate_%                   100000 non-null  float64\n",
      " 12  Efficiency_Status              100000 non-null  object \n",
      "dtypes: float64(9), int64(1), object(3)\n",
      "memory usage: 9.9+ MB\n"
     ]
    }
   ],
   "source": [
    "manufacturing_df.info()"
   ]
  },
  {
   "cell_type": "code",
   "execution_count": 33,
   "id": "a84efbb9",
   "metadata": {},
   "outputs": [
    {
     "data": {
      "application/vnd.microsoft.datawrangler.viewer.v0+json": {
       "columns": [
        {
         "name": "index",
         "rawType": "object",
         "type": "string"
        },
        {
         "name": "Machine_ID",
         "rawType": "float64",
         "type": "float"
        },
        {
         "name": "Temperature_C",
         "rawType": "float64",
         "type": "float"
        },
        {
         "name": "Vibration_Hz",
         "rawType": "float64",
         "type": "float"
        },
        {
         "name": "Power_Consumption_kW",
         "rawType": "float64",
         "type": "float"
        },
        {
         "name": "Network_Latency_ms",
         "rawType": "float64",
         "type": "float"
        },
        {
         "name": "Packet_Loss_%",
         "rawType": "float64",
         "type": "float"
        },
        {
         "name": "Quality_Control_Defect_Rate_%",
         "rawType": "float64",
         "type": "float"
        },
        {
         "name": "Production_Speed_units_per_hr",
         "rawType": "float64",
         "type": "float"
        },
        {
         "name": "Predictive_Maintenance_Score",
         "rawType": "float64",
         "type": "float"
        },
        {
         "name": "Error_Rate_%",
         "rawType": "float64",
         "type": "float"
        }
       ],
       "conversionMethod": "pd.DataFrame",
       "ref": "ade85134-5205-4c0b-93f8-5d0b0e3e9d36",
       "rows": [
        [
         "count",
         "100000.0",
         "100000.0",
         "100000.0",
         "100000.0",
         "100000.0",
         "100000.0",
         "100000.0",
         "100000.0",
         "100000.0",
         "100000.0"
        ],
        [
         "mean",
         "25.49933",
         "60.04145844712018",
         "2.549958857449673",
         "5.745929152991197",
         "25.55561956509883",
         "2.493418383257236",
         "5.008806240126831",
         "275.91632442408434",
         "0.49938511019590276",
         "7.504100131821971"
        ],
        [
         "std",
         "14.389438839322304",
         "17.32323754652959",
         "1.4141266818236513",
         "2.4512705381950646",
         "14.120758146171744",
         "1.4432728394714502",
         "2.8836660786808745",
         "130.09689219942624",
         "0.2888135899734085",
         "4.335896192708234"
        ],
        [
         "min",
         "1.0",
         "30.000137890957085",
         "0.1000109137489653",
         "1.5001828372282835",
         "1.00002542338376",
         "2.623709327409518e-05",
         "0.0004488894314802",
         "50.000374764752834",
         "2.542233038416164e-06",
         "0.0001122884510773"
        ],
        [
         "25%",
         "13.0",
         "45.03159639679667",
         "1.3232144051563375",
         "3.627318423547296",
         "13.35511826816513",
         "1.2450261758306649",
         "2.5215906198683133",
         "162.87361823691907",
         "0.2481662376675925",
         "3.750147949506353"
        ],
        [
         "50%",
         "25.0",
         "60.03359699685208",
         "2.549441190240476",
         "5.755460447591829",
         "25.53607861962318",
         "2.4876668740349372",
         "5.00356917722956",
         "276.64892176629206",
         "0.4992092975317723",
         "7.504145145681046"
        ],
        [
         "75%",
         "38.0",
         "74.96721747882748",
         "3.7764590651813927",
         "7.860266755648089",
         "37.79637240031553",
         "3.7412517891616512",
         "7.506126664266542",
         "388.81276146549095",
         "0.7488103534042829",
         "11.273189448589797"
        ],
        [
         "max",
         "50.0",
         "89.99897908395114",
         "4.999973585355236",
         "9.99988898643713",
         "49.99991742818677",
         "4.999974649170845",
         "9.999900333514017",
         "499.9967677105661",
         "0.9999778779186006",
         "14.999868808717553"
        ]
       ],
       "shape": {
        "columns": 10,
        "rows": 8
       }
      },
      "text/html": [
       "<div>\n",
       "<style scoped>\n",
       "    .dataframe tbody tr th:only-of-type {\n",
       "        vertical-align: middle;\n",
       "    }\n",
       "\n",
       "    .dataframe tbody tr th {\n",
       "        vertical-align: top;\n",
       "    }\n",
       "\n",
       "    .dataframe thead th {\n",
       "        text-align: right;\n",
       "    }\n",
       "</style>\n",
       "<table border=\"1\" class=\"dataframe\">\n",
       "  <thead>\n",
       "    <tr style=\"text-align: right;\">\n",
       "      <th></th>\n",
       "      <th>Machine_ID</th>\n",
       "      <th>Temperature_C</th>\n",
       "      <th>Vibration_Hz</th>\n",
       "      <th>Power_Consumption_kW</th>\n",
       "      <th>Network_Latency_ms</th>\n",
       "      <th>Packet_Loss_%</th>\n",
       "      <th>Quality_Control_Defect_Rate_%</th>\n",
       "      <th>Production_Speed_units_per_hr</th>\n",
       "      <th>Predictive_Maintenance_Score</th>\n",
       "      <th>Error_Rate_%</th>\n",
       "    </tr>\n",
       "  </thead>\n",
       "  <tbody>\n",
       "    <tr>\n",
       "      <th>count</th>\n",
       "      <td>100000.000000</td>\n",
       "      <td>100000.000000</td>\n",
       "      <td>100000.000000</td>\n",
       "      <td>100000.000000</td>\n",
       "      <td>100000.000000</td>\n",
       "      <td>100000.000000</td>\n",
       "      <td>100000.000000</td>\n",
       "      <td>100000.000000</td>\n",
       "      <td>100000.000000</td>\n",
       "      <td>100000.000000</td>\n",
       "    </tr>\n",
       "    <tr>\n",
       "      <th>mean</th>\n",
       "      <td>25.499330</td>\n",
       "      <td>60.041458</td>\n",
       "      <td>2.549959</td>\n",
       "      <td>5.745929</td>\n",
       "      <td>25.555620</td>\n",
       "      <td>2.493418</td>\n",
       "      <td>5.008806</td>\n",
       "      <td>275.916324</td>\n",
       "      <td>0.499385</td>\n",
       "      <td>7.504100</td>\n",
       "    </tr>\n",
       "    <tr>\n",
       "      <th>std</th>\n",
       "      <td>14.389439</td>\n",
       "      <td>17.323238</td>\n",
       "      <td>1.414127</td>\n",
       "      <td>2.451271</td>\n",
       "      <td>14.120758</td>\n",
       "      <td>1.443273</td>\n",
       "      <td>2.883666</td>\n",
       "      <td>130.096892</td>\n",
       "      <td>0.288814</td>\n",
       "      <td>4.335896</td>\n",
       "    </tr>\n",
       "    <tr>\n",
       "      <th>min</th>\n",
       "      <td>1.000000</td>\n",
       "      <td>30.000138</td>\n",
       "      <td>0.100011</td>\n",
       "      <td>1.500183</td>\n",
       "      <td>1.000025</td>\n",
       "      <td>0.000026</td>\n",
       "      <td>0.000449</td>\n",
       "      <td>50.000375</td>\n",
       "      <td>0.000003</td>\n",
       "      <td>0.000112</td>\n",
       "    </tr>\n",
       "    <tr>\n",
       "      <th>25%</th>\n",
       "      <td>13.000000</td>\n",
       "      <td>45.031596</td>\n",
       "      <td>1.323214</td>\n",
       "      <td>3.627318</td>\n",
       "      <td>13.355118</td>\n",
       "      <td>1.245026</td>\n",
       "      <td>2.521591</td>\n",
       "      <td>162.873618</td>\n",
       "      <td>0.248166</td>\n",
       "      <td>3.750148</td>\n",
       "    </tr>\n",
       "    <tr>\n",
       "      <th>50%</th>\n",
       "      <td>25.000000</td>\n",
       "      <td>60.033597</td>\n",
       "      <td>2.549441</td>\n",
       "      <td>5.755460</td>\n",
       "      <td>25.536079</td>\n",
       "      <td>2.487667</td>\n",
       "      <td>5.003569</td>\n",
       "      <td>276.648922</td>\n",
       "      <td>0.499209</td>\n",
       "      <td>7.504145</td>\n",
       "    </tr>\n",
       "    <tr>\n",
       "      <th>75%</th>\n",
       "      <td>38.000000</td>\n",
       "      <td>74.967217</td>\n",
       "      <td>3.776459</td>\n",
       "      <td>7.860267</td>\n",
       "      <td>37.796372</td>\n",
       "      <td>3.741252</td>\n",
       "      <td>7.506127</td>\n",
       "      <td>388.812761</td>\n",
       "      <td>0.748810</td>\n",
       "      <td>11.273189</td>\n",
       "    </tr>\n",
       "    <tr>\n",
       "      <th>max</th>\n",
       "      <td>50.000000</td>\n",
       "      <td>89.998979</td>\n",
       "      <td>4.999974</td>\n",
       "      <td>9.999889</td>\n",
       "      <td>49.999917</td>\n",
       "      <td>4.999975</td>\n",
       "      <td>9.999900</td>\n",
       "      <td>499.996768</td>\n",
       "      <td>0.999978</td>\n",
       "      <td>14.999869</td>\n",
       "    </tr>\n",
       "  </tbody>\n",
       "</table>\n",
       "</div>"
      ],
      "text/plain": [
       "          Machine_ID  Temperature_C   Vibration_Hz  Power_Consumption_kW  \\\n",
       "count  100000.000000  100000.000000  100000.000000         100000.000000   \n",
       "mean       25.499330      60.041458       2.549959              5.745929   \n",
       "std        14.389439      17.323238       1.414127              2.451271   \n",
       "min         1.000000      30.000138       0.100011              1.500183   \n",
       "25%        13.000000      45.031596       1.323214              3.627318   \n",
       "50%        25.000000      60.033597       2.549441              5.755460   \n",
       "75%        38.000000      74.967217       3.776459              7.860267   \n",
       "max        50.000000      89.998979       4.999974              9.999889   \n",
       "\n",
       "       Network_Latency_ms  Packet_Loss_%  Quality_Control_Defect_Rate_%  \\\n",
       "count       100000.000000  100000.000000                  100000.000000   \n",
       "mean            25.555620       2.493418                       5.008806   \n",
       "std             14.120758       1.443273                       2.883666   \n",
       "min              1.000025       0.000026                       0.000449   \n",
       "25%             13.355118       1.245026                       2.521591   \n",
       "50%             25.536079       2.487667                       5.003569   \n",
       "75%             37.796372       3.741252                       7.506127   \n",
       "max             49.999917       4.999975                       9.999900   \n",
       "\n",
       "       Production_Speed_units_per_hr  Predictive_Maintenance_Score  \\\n",
       "count                  100000.000000                 100000.000000   \n",
       "mean                      275.916324                      0.499385   \n",
       "std                       130.096892                      0.288814   \n",
       "min                        50.000375                      0.000003   \n",
       "25%                       162.873618                      0.248166   \n",
       "50%                       276.648922                      0.499209   \n",
       "75%                       388.812761                      0.748810   \n",
       "max                       499.996768                      0.999978   \n",
       "\n",
       "        Error_Rate_%  \n",
       "count  100000.000000  \n",
       "mean        7.504100  \n",
       "std         4.335896  \n",
       "min         0.000112  \n",
       "25%         3.750148  \n",
       "50%         7.504145  \n",
       "75%        11.273189  \n",
       "max        14.999869  "
      ]
     },
     "execution_count": 33,
     "metadata": {},
     "output_type": "execute_result"
    }
   ],
   "source": [
    "manufacturing_df.describe()"
   ]
  },
  {
   "cell_type": "code",
   "execution_count": 34,
   "id": "6d481cb5",
   "metadata": {},
   "outputs": [
    {
     "data": {
      "text/plain": [
       "Timestamp                        0\n",
       "Machine_ID                       0\n",
       "Operation_Mode                   0\n",
       "Temperature_C                    0\n",
       "Vibration_Hz                     0\n",
       "Power_Consumption_kW             0\n",
       "Network_Latency_ms               0\n",
       "Packet_Loss_%                    0\n",
       "Quality_Control_Defect_Rate_%    0\n",
       "Production_Speed_units_per_hr    0\n",
       "Predictive_Maintenance_Score     0\n",
       "Error_Rate_%                     0\n",
       "Efficiency_Status                0\n",
       "dtype: int64"
      ]
     },
     "execution_count": 34,
     "metadata": {},
     "output_type": "execute_result"
    }
   ],
   "source": [
    "manufacturing_df.isnull().sum()"
   ]
  },
  {
   "cell_type": "code",
   "execution_count": 35,
   "id": "5fb1f1ea",
   "metadata": {},
   "outputs": [
    {
     "data": {
      "application/vnd.microsoft.datawrangler.viewer.v0+json": {
       "columns": [
        {
         "name": "index",
         "rawType": "int64",
         "type": "integer"
        },
        {
         "name": "Machine_ID",
         "rawType": "int64",
         "type": "integer"
        },
        {
         "name": "Operation_Mode",
         "rawType": "object",
         "type": "string"
        },
        {
         "name": "Temperature_C",
         "rawType": "float64",
         "type": "float"
        },
        {
         "name": "Vibration_Hz",
         "rawType": "float64",
         "type": "float"
        },
        {
         "name": "Power_Consumption_kW",
         "rawType": "float64",
         "type": "float"
        },
        {
         "name": "Network_Latency_ms",
         "rawType": "float64",
         "type": "float"
        },
        {
         "name": "Packet_Loss_%",
         "rawType": "float64",
         "type": "float"
        },
        {
         "name": "Quality_Control_Defect_Rate_%",
         "rawType": "float64",
         "type": "float"
        },
        {
         "name": "Production_Speed_units_per_hr",
         "rawType": "float64",
         "type": "float"
        },
        {
         "name": "Predictive_Maintenance_Score",
         "rawType": "float64",
         "type": "float"
        },
        {
         "name": "Error_Rate_%",
         "rawType": "float64",
         "type": "float"
        },
        {
         "name": "Efficiency_Status",
         "rawType": "object",
         "type": "string"
        },
        {
         "name": "hour",
         "rawType": "int32",
         "type": "integer"
        },
        {
         "name": "minute",
         "rawType": "int32",
         "type": "integer"
        },
        {
         "name": "day_of_week",
         "rawType": "int32",
         "type": "integer"
        },
        {
         "name": "is_weekend",
         "rawType": "int64",
         "type": "integer"
        },
        {
         "name": "month",
         "rawType": "int32",
         "type": "integer"
        }
       ],
       "conversionMethod": "pd.DataFrame",
       "ref": "67e2a252-6fda-4a2e-87f7-b5808bec22cd",
       "rows": [
        [
         "0",
         "39",
         "Idle",
         "74.13758998750998",
         "3.5005952505668376",
         "8.61216228672771",
         "10.650541807495888",
         "0.2077642586521061",
         "7.75126066915425",
         "477.6573907044127",
         "0.344650285712311",
         "14.96546993501487",
         "Low",
         "0",
         "0",
         "0",
         "0",
         "1"
        ],
        [
         "1",
         "29",
         "Active",
         "84.26455838600123",
         "3.355927799532658",
         "2.268558727665701",
         "29.11181021637609",
         "2.22846358543766",
         "4.989172453658086",
         "398.1747469572252",
         "0.7698484383392469",
         "7.678270238860093",
         "Low",
         "0",
         "1",
         "0",
         "0",
         "1"
        ],
        [
         "2",
         "15",
         "Active",
         "44.28010157113693",
         "2.0797660943098664",
         "6.144105398264381",
         "18.357292229650056",
         "1.639416214806451",
         "0.4568164053782064",
         "108.0749587029995",
         "0.9870863114008817",
         "8.198391135045167",
         "Low",
         "0",
         "2",
         "0",
         "0",
         "1"
        ],
        [
         "3",
         "43",
         "Active",
         "40.5685019792109",
         "0.2982377623817641",
         "4.067825373478269",
         "29.15362894215821",
         "1.161020636843566",
         "4.5829735177627215",
         "329.5794095665588",
         "0.983390223525452",
         "2.7408470871373307",
         "Medium",
         "0",
         "3",
         "0",
         "0",
         "1"
        ],
        [
         "4",
         "8",
         "Idle",
         "75.06381737005613",
         "0.3458101073578936",
         "6.225737023845363",
         "34.02919051771376",
         "4.796519646574453",
         "2.287716177150092",
         "159.11352502137987",
         "0.5731169659066233",
         "12.100686272703294",
         "Low",
         "0",
         "4",
         "0",
         "0",
         "1"
        ]
       ],
       "shape": {
        "columns": 17,
        "rows": 5
       }
      },
      "text/html": [
       "<div>\n",
       "<style scoped>\n",
       "    .dataframe tbody tr th:only-of-type {\n",
       "        vertical-align: middle;\n",
       "    }\n",
       "\n",
       "    .dataframe tbody tr th {\n",
       "        vertical-align: top;\n",
       "    }\n",
       "\n",
       "    .dataframe thead th {\n",
       "        text-align: right;\n",
       "    }\n",
       "</style>\n",
       "<table border=\"1\" class=\"dataframe\">\n",
       "  <thead>\n",
       "    <tr style=\"text-align: right;\">\n",
       "      <th></th>\n",
       "      <th>Machine_ID</th>\n",
       "      <th>Operation_Mode</th>\n",
       "      <th>Temperature_C</th>\n",
       "      <th>Vibration_Hz</th>\n",
       "      <th>Power_Consumption_kW</th>\n",
       "      <th>Network_Latency_ms</th>\n",
       "      <th>Packet_Loss_%</th>\n",
       "      <th>Quality_Control_Defect_Rate_%</th>\n",
       "      <th>Production_Speed_units_per_hr</th>\n",
       "      <th>Predictive_Maintenance_Score</th>\n",
       "      <th>Error_Rate_%</th>\n",
       "      <th>Efficiency_Status</th>\n",
       "      <th>hour</th>\n",
       "      <th>minute</th>\n",
       "      <th>day_of_week</th>\n",
       "      <th>is_weekend</th>\n",
       "      <th>month</th>\n",
       "    </tr>\n",
       "  </thead>\n",
       "  <tbody>\n",
       "    <tr>\n",
       "      <th>0</th>\n",
       "      <td>39</td>\n",
       "      <td>Idle</td>\n",
       "      <td>74.137590</td>\n",
       "      <td>3.500595</td>\n",
       "      <td>8.612162</td>\n",
       "      <td>10.650542</td>\n",
       "      <td>0.207764</td>\n",
       "      <td>7.751261</td>\n",
       "      <td>477.657391</td>\n",
       "      <td>0.344650</td>\n",
       "      <td>14.965470</td>\n",
       "      <td>Low</td>\n",
       "      <td>0</td>\n",
       "      <td>0</td>\n",
       "      <td>0</td>\n",
       "      <td>0</td>\n",
       "      <td>1</td>\n",
       "    </tr>\n",
       "    <tr>\n",
       "      <th>1</th>\n",
       "      <td>29</td>\n",
       "      <td>Active</td>\n",
       "      <td>84.264558</td>\n",
       "      <td>3.355928</td>\n",
       "      <td>2.268559</td>\n",
       "      <td>29.111810</td>\n",
       "      <td>2.228464</td>\n",
       "      <td>4.989172</td>\n",
       "      <td>398.174747</td>\n",
       "      <td>0.769848</td>\n",
       "      <td>7.678270</td>\n",
       "      <td>Low</td>\n",
       "      <td>0</td>\n",
       "      <td>1</td>\n",
       "      <td>0</td>\n",
       "      <td>0</td>\n",
       "      <td>1</td>\n",
       "    </tr>\n",
       "    <tr>\n",
       "      <th>2</th>\n",
       "      <td>15</td>\n",
       "      <td>Active</td>\n",
       "      <td>44.280102</td>\n",
       "      <td>2.079766</td>\n",
       "      <td>6.144105</td>\n",
       "      <td>18.357292</td>\n",
       "      <td>1.639416</td>\n",
       "      <td>0.456816</td>\n",
       "      <td>108.074959</td>\n",
       "      <td>0.987086</td>\n",
       "      <td>8.198391</td>\n",
       "      <td>Low</td>\n",
       "      <td>0</td>\n",
       "      <td>2</td>\n",
       "      <td>0</td>\n",
       "      <td>0</td>\n",
       "      <td>1</td>\n",
       "    </tr>\n",
       "    <tr>\n",
       "      <th>3</th>\n",
       "      <td>43</td>\n",
       "      <td>Active</td>\n",
       "      <td>40.568502</td>\n",
       "      <td>0.298238</td>\n",
       "      <td>4.067825</td>\n",
       "      <td>29.153629</td>\n",
       "      <td>1.161021</td>\n",
       "      <td>4.582974</td>\n",
       "      <td>329.579410</td>\n",
       "      <td>0.983390</td>\n",
       "      <td>2.740847</td>\n",
       "      <td>Medium</td>\n",
       "      <td>0</td>\n",
       "      <td>3</td>\n",
       "      <td>0</td>\n",
       "      <td>0</td>\n",
       "      <td>1</td>\n",
       "    </tr>\n",
       "    <tr>\n",
       "      <th>4</th>\n",
       "      <td>8</td>\n",
       "      <td>Idle</td>\n",
       "      <td>75.063817</td>\n",
       "      <td>0.345810</td>\n",
       "      <td>6.225737</td>\n",
       "      <td>34.029191</td>\n",
       "      <td>4.796520</td>\n",
       "      <td>2.287716</td>\n",
       "      <td>159.113525</td>\n",
       "      <td>0.573117</td>\n",
       "      <td>12.100686</td>\n",
       "      <td>Low</td>\n",
       "      <td>0</td>\n",
       "      <td>4</td>\n",
       "      <td>0</td>\n",
       "      <td>0</td>\n",
       "      <td>1</td>\n",
       "    </tr>\n",
       "  </tbody>\n",
       "</table>\n",
       "</div>"
      ],
      "text/plain": [
       "   Machine_ID Operation_Mode  Temperature_C  Vibration_Hz  \\\n",
       "0          39           Idle      74.137590      3.500595   \n",
       "1          29         Active      84.264558      3.355928   \n",
       "2          15         Active      44.280102      2.079766   \n",
       "3          43         Active      40.568502      0.298238   \n",
       "4           8           Idle      75.063817      0.345810   \n",
       "\n",
       "   Power_Consumption_kW  Network_Latency_ms  Packet_Loss_%  \\\n",
       "0              8.612162           10.650542       0.207764   \n",
       "1              2.268559           29.111810       2.228464   \n",
       "2              6.144105           18.357292       1.639416   \n",
       "3              4.067825           29.153629       1.161021   \n",
       "4              6.225737           34.029191       4.796520   \n",
       "\n",
       "   Quality_Control_Defect_Rate_%  Production_Speed_units_per_hr  \\\n",
       "0                       7.751261                     477.657391   \n",
       "1                       4.989172                     398.174747   \n",
       "2                       0.456816                     108.074959   \n",
       "3                       4.582974                     329.579410   \n",
       "4                       2.287716                     159.113525   \n",
       "\n",
       "   Predictive_Maintenance_Score  Error_Rate_% Efficiency_Status  hour  minute  \\\n",
       "0                      0.344650     14.965470               Low     0       0   \n",
       "1                      0.769848      7.678270               Low     0       1   \n",
       "2                      0.987086      8.198391               Low     0       2   \n",
       "3                      0.983390      2.740847            Medium     0       3   \n",
       "4                      0.573117     12.100686               Low     0       4   \n",
       "\n",
       "   day_of_week  is_weekend  month  \n",
       "0            0           0      1  \n",
       "1            0           0      1  \n",
       "2            0           0      1  \n",
       "3            0           0      1  \n",
       "4            0           0      1  "
      ]
     },
     "execution_count": 35,
     "metadata": {},
     "output_type": "execute_result"
    }
   ],
   "source": [
    "manufacturing_df['Timestamp'] = pd.to_datetime(manufacturing_df['Timestamp'])\n",
    "\n",
    "# Time-based features\n",
    "manufacturing_df['hour'] = manufacturing_df['Timestamp'].dt.hour\n",
    "manufacturing_df['minute'] = manufacturing_df['Timestamp'].dt.minute\n",
    "manufacturing_df['day_of_week'] = manufacturing_df['Timestamp'].dt.dayofweek  # 0=Monday, 6=Sunday\n",
    "manufacturing_df['is_weekend'] = manufacturing_df['day_of_week'].apply(lambda x: 1 if x >= 5 else 0)\n",
    "manufacturing_df['month'] = manufacturing_df['Timestamp'].dt.month\n",
    "\n",
    "# drop timestamp column\n",
    "manufacturing_df = manufacturing_df.drop('Timestamp', axis=1)\n",
    "# manufacturing_df = manufacturing_df.drop('Predictive_Maintenance_Score', axis=1)\n",
    "# manufacturing_df = manufacturing_df.drop('Temperature_C', axis=1)\n",
    "# manufacturing_df = manufacturing_df.drop('Error_Rate_%', axis=1)\n",
    "manufacturing_df.head() "
   ]
  },
  {
   "cell_type": "code",
   "execution_count": 36,
   "id": "58ba618e",
   "metadata": {},
   "outputs": [
    {
     "data": {
      "application/vnd.microsoft.datawrangler.viewer.v0+json": {
       "columns": [
        {
         "name": "index",
         "rawType": "int64",
         "type": "integer"
        },
        {
         "name": "Machine_ID",
         "rawType": "int64",
         "type": "integer"
        },
        {
         "name": "Temperature_C",
         "rawType": "float64",
         "type": "float"
        },
        {
         "name": "Vibration_Hz",
         "rawType": "float64",
         "type": "float"
        },
        {
         "name": "Power_Consumption_kW",
         "rawType": "float64",
         "type": "float"
        },
        {
         "name": "Network_Latency_ms",
         "rawType": "float64",
         "type": "float"
        },
        {
         "name": "Packet_Loss_%",
         "rawType": "float64",
         "type": "float"
        },
        {
         "name": "Quality_Control_Defect_Rate_%",
         "rawType": "float64",
         "type": "float"
        },
        {
         "name": "Production_Speed_units_per_hr",
         "rawType": "float64",
         "type": "float"
        },
        {
         "name": "Predictive_Maintenance_Score",
         "rawType": "float64",
         "type": "float"
        },
        {
         "name": "Error_Rate_%",
         "rawType": "float64",
         "type": "float"
        },
        {
         "name": "Efficiency_Status",
         "rawType": "object",
         "type": "string"
        },
        {
         "name": "hour",
         "rawType": "int32",
         "type": "integer"
        },
        {
         "name": "minute",
         "rawType": "int32",
         "type": "integer"
        },
        {
         "name": "day_of_week",
         "rawType": "int32",
         "type": "integer"
        },
        {
         "name": "is_weekend",
         "rawType": "int64",
         "type": "integer"
        },
        {
         "name": "month",
         "rawType": "int32",
         "type": "integer"
        },
        {
         "name": "Operation_Mode_Idle",
         "rawType": "int64",
         "type": "integer"
        },
        {
         "name": "Operation_Mode_Maintenance",
         "rawType": "int64",
         "type": "integer"
        }
       ],
       "conversionMethod": "pd.DataFrame",
       "ref": "f7361481-e795-4960-a60d-9248a612813c",
       "rows": [
        [
         "0",
         "39",
         "74.13758998750998",
         "3.5005952505668376",
         "8.61216228672771",
         "10.650541807495888",
         "0.2077642586521061",
         "7.75126066915425",
         "477.6573907044127",
         "0.344650285712311",
         "14.96546993501487",
         "Low",
         "0",
         "0",
         "0",
         "0",
         "1",
         "1",
         "0"
        ],
        [
         "1",
         "29",
         "84.26455838600123",
         "3.355927799532658",
         "2.268558727665701",
         "29.11181021637609",
         "2.22846358543766",
         "4.989172453658086",
         "398.1747469572252",
         "0.7698484383392469",
         "7.678270238860093",
         "Low",
         "0",
         "1",
         "0",
         "0",
         "1",
         "0",
         "0"
        ],
        [
         "2",
         "15",
         "44.28010157113693",
         "2.0797660943098664",
         "6.144105398264381",
         "18.357292229650056",
         "1.639416214806451",
         "0.4568164053782064",
         "108.0749587029995",
         "0.9870863114008817",
         "8.198391135045167",
         "Low",
         "0",
         "2",
         "0",
         "0",
         "1",
         "0",
         "0"
        ],
        [
         "3",
         "43",
         "40.5685019792109",
         "0.2982377623817641",
         "4.067825373478269",
         "29.15362894215821",
         "1.161020636843566",
         "4.5829735177627215",
         "329.5794095665588",
         "0.983390223525452",
         "2.7408470871373307",
         "Medium",
         "0",
         "3",
         "0",
         "0",
         "1",
         "0",
         "0"
        ],
        [
         "4",
         "8",
         "75.06381737005613",
         "0.3458101073578936",
         "6.225737023845363",
         "34.02919051771376",
         "4.796519646574453",
         "2.287716177150092",
         "159.11352502137987",
         "0.5731169659066233",
         "12.100686272703294",
         "Low",
         "0",
         "4",
         "0",
         "0",
         "1",
         "1",
         "0"
        ]
       ],
       "shape": {
        "columns": 18,
        "rows": 5
       }
      },
      "text/html": [
       "<div>\n",
       "<style scoped>\n",
       "    .dataframe tbody tr th:only-of-type {\n",
       "        vertical-align: middle;\n",
       "    }\n",
       "\n",
       "    .dataframe tbody tr th {\n",
       "        vertical-align: top;\n",
       "    }\n",
       "\n",
       "    .dataframe thead th {\n",
       "        text-align: right;\n",
       "    }\n",
       "</style>\n",
       "<table border=\"1\" class=\"dataframe\">\n",
       "  <thead>\n",
       "    <tr style=\"text-align: right;\">\n",
       "      <th></th>\n",
       "      <th>Machine_ID</th>\n",
       "      <th>Temperature_C</th>\n",
       "      <th>Vibration_Hz</th>\n",
       "      <th>Power_Consumption_kW</th>\n",
       "      <th>Network_Latency_ms</th>\n",
       "      <th>Packet_Loss_%</th>\n",
       "      <th>Quality_Control_Defect_Rate_%</th>\n",
       "      <th>Production_Speed_units_per_hr</th>\n",
       "      <th>Predictive_Maintenance_Score</th>\n",
       "      <th>Error_Rate_%</th>\n",
       "      <th>Efficiency_Status</th>\n",
       "      <th>hour</th>\n",
       "      <th>minute</th>\n",
       "      <th>day_of_week</th>\n",
       "      <th>is_weekend</th>\n",
       "      <th>month</th>\n",
       "      <th>Operation_Mode_Idle</th>\n",
       "      <th>Operation_Mode_Maintenance</th>\n",
       "    </tr>\n",
       "  </thead>\n",
       "  <tbody>\n",
       "    <tr>\n",
       "      <th>0</th>\n",
       "      <td>39</td>\n",
       "      <td>74.137590</td>\n",
       "      <td>3.500595</td>\n",
       "      <td>8.612162</td>\n",
       "      <td>10.650542</td>\n",
       "      <td>0.207764</td>\n",
       "      <td>7.751261</td>\n",
       "      <td>477.657391</td>\n",
       "      <td>0.344650</td>\n",
       "      <td>14.965470</td>\n",
       "      <td>Low</td>\n",
       "      <td>0</td>\n",
       "      <td>0</td>\n",
       "      <td>0</td>\n",
       "      <td>0</td>\n",
       "      <td>1</td>\n",
       "      <td>1</td>\n",
       "      <td>0</td>\n",
       "    </tr>\n",
       "    <tr>\n",
       "      <th>1</th>\n",
       "      <td>29</td>\n",
       "      <td>84.264558</td>\n",
       "      <td>3.355928</td>\n",
       "      <td>2.268559</td>\n",
       "      <td>29.111810</td>\n",
       "      <td>2.228464</td>\n",
       "      <td>4.989172</td>\n",
       "      <td>398.174747</td>\n",
       "      <td>0.769848</td>\n",
       "      <td>7.678270</td>\n",
       "      <td>Low</td>\n",
       "      <td>0</td>\n",
       "      <td>1</td>\n",
       "      <td>0</td>\n",
       "      <td>0</td>\n",
       "      <td>1</td>\n",
       "      <td>0</td>\n",
       "      <td>0</td>\n",
       "    </tr>\n",
       "    <tr>\n",
       "      <th>2</th>\n",
       "      <td>15</td>\n",
       "      <td>44.280102</td>\n",
       "      <td>2.079766</td>\n",
       "      <td>6.144105</td>\n",
       "      <td>18.357292</td>\n",
       "      <td>1.639416</td>\n",
       "      <td>0.456816</td>\n",
       "      <td>108.074959</td>\n",
       "      <td>0.987086</td>\n",
       "      <td>8.198391</td>\n",
       "      <td>Low</td>\n",
       "      <td>0</td>\n",
       "      <td>2</td>\n",
       "      <td>0</td>\n",
       "      <td>0</td>\n",
       "      <td>1</td>\n",
       "      <td>0</td>\n",
       "      <td>0</td>\n",
       "    </tr>\n",
       "    <tr>\n",
       "      <th>3</th>\n",
       "      <td>43</td>\n",
       "      <td>40.568502</td>\n",
       "      <td>0.298238</td>\n",
       "      <td>4.067825</td>\n",
       "      <td>29.153629</td>\n",
       "      <td>1.161021</td>\n",
       "      <td>4.582974</td>\n",
       "      <td>329.579410</td>\n",
       "      <td>0.983390</td>\n",
       "      <td>2.740847</td>\n",
       "      <td>Medium</td>\n",
       "      <td>0</td>\n",
       "      <td>3</td>\n",
       "      <td>0</td>\n",
       "      <td>0</td>\n",
       "      <td>1</td>\n",
       "      <td>0</td>\n",
       "      <td>0</td>\n",
       "    </tr>\n",
       "    <tr>\n",
       "      <th>4</th>\n",
       "      <td>8</td>\n",
       "      <td>75.063817</td>\n",
       "      <td>0.345810</td>\n",
       "      <td>6.225737</td>\n",
       "      <td>34.029191</td>\n",
       "      <td>4.796520</td>\n",
       "      <td>2.287716</td>\n",
       "      <td>159.113525</td>\n",
       "      <td>0.573117</td>\n",
       "      <td>12.100686</td>\n",
       "      <td>Low</td>\n",
       "      <td>0</td>\n",
       "      <td>4</td>\n",
       "      <td>0</td>\n",
       "      <td>0</td>\n",
       "      <td>1</td>\n",
       "      <td>1</td>\n",
       "      <td>0</td>\n",
       "    </tr>\n",
       "  </tbody>\n",
       "</table>\n",
       "</div>"
      ],
      "text/plain": [
       "   Machine_ID  Temperature_C  Vibration_Hz  Power_Consumption_kW  \\\n",
       "0          39      74.137590      3.500595              8.612162   \n",
       "1          29      84.264558      3.355928              2.268559   \n",
       "2          15      44.280102      2.079766              6.144105   \n",
       "3          43      40.568502      0.298238              4.067825   \n",
       "4           8      75.063817      0.345810              6.225737   \n",
       "\n",
       "   Network_Latency_ms  Packet_Loss_%  Quality_Control_Defect_Rate_%  \\\n",
       "0           10.650542       0.207764                       7.751261   \n",
       "1           29.111810       2.228464                       4.989172   \n",
       "2           18.357292       1.639416                       0.456816   \n",
       "3           29.153629       1.161021                       4.582974   \n",
       "4           34.029191       4.796520                       2.287716   \n",
       "\n",
       "   Production_Speed_units_per_hr  Predictive_Maintenance_Score  Error_Rate_%  \\\n",
       "0                     477.657391                      0.344650     14.965470   \n",
       "1                     398.174747                      0.769848      7.678270   \n",
       "2                     108.074959                      0.987086      8.198391   \n",
       "3                     329.579410                      0.983390      2.740847   \n",
       "4                     159.113525                      0.573117     12.100686   \n",
       "\n",
       "  Efficiency_Status  hour  minute  day_of_week  is_weekend  month  \\\n",
       "0               Low     0       0            0           0      1   \n",
       "1               Low     0       1            0           0      1   \n",
       "2               Low     0       2            0           0      1   \n",
       "3            Medium     0       3            0           0      1   \n",
       "4               Low     0       4            0           0      1   \n",
       "\n",
       "   Operation_Mode_Idle  Operation_Mode_Maintenance  \n",
       "0                    1                           0  \n",
       "1                    0                           0  \n",
       "2                    0                           0  \n",
       "3                    0                           0  \n",
       "4                    1                           0  "
      ]
     },
     "execution_count": 36,
     "metadata": {},
     "output_type": "execute_result"
    }
   ],
   "source": [
    "# Generate the one-hot encoding for 'Operation_Mode' and 'Efficiency_Status'\n",
    "# Drop the first column from each to avoid perfect multicollinearity\n",
    "manufacturing_df = pd.get_dummies(manufacturing_df, columns=['Operation_Mode',],prefix=['Operation_Mode'], drop_first=True)\n",
    "\n",
    "# Convert the one-hot encoded columns to integers (optional)\n",
    "manufacturing_df = manufacturing_df.astype({'Operation_Mode_Idle': 'int', 'Operation_Mode_Maintenance': 'int'})\n",
    "\n",
    "# Display the updated DataFrame\n",
    "manufacturing_df.head()\n",
    "\n",
    "\n"
   ]
  },
  {
   "cell_type": "code",
   "execution_count": 37,
   "id": "4288dd24",
   "metadata": {},
   "outputs": [
    {
     "data": {
      "image/png": "[encoded data removed]",
      "text/plain": [
       "<Figure size 800x600 with 1 Axes>"
      ]
     },
     "metadata": {},
     "output_type": "display_data"
    }
   ],
   "source": [
    "# histogram of target variable\n",
    "plt.figure(figsize=(8, 6))\n",
    "sns.countplot(x='Efficiency_Status', data=manufacturing_df)\n",
    "plt.xlabel('Efficiency Status')\n",
    "plt.ylabel('Count')\n",
    "plt.title('Distribution of Efficiency Status')\n",
    "plt.show()"
   ]
  },
  {
   "cell_type": "code",
   "execution_count": 47,
   "id": "21a82b36",
   "metadata": {},
   "outputs": [],
   "source": [
    "# # visualize correlation matrix\n",
    "# corr_matrix = manufacturing_df.corr()\n",
    "# sns.heatmap(corr_matrix, annot=True, cmap='coolwarm')\n",
    "# plt.show()"
   ]
  },
  {
   "cell_type": "markdown",
   "id": "fdd27e10",
   "metadata": {},
   "source": [
    "## LogisticRegression\n",
    "- with cross validation"
   ]
  },
  {
   "cell_type": "code",
   "execution_count": 39,
   "id": "81c29d42",
   "metadata": {},
   "outputs": [
    {
     "name": "stdout",
     "output_type": "stream",
     "text": [
      "Final cross-validation accuracy: 91.27%\n",
      "Standard deviation of accuracy: 0.28%\n",
      "Test set accuracy: 91.67%\n",
      "              precision    recall  f1-score   support\n",
      "\n",
      "           0       0.89      0.84      0.87       625\n",
      "           1       0.95      0.96      0.95     15464\n",
      "           2       0.80      0.77      0.78      3911\n",
      "\n",
      "    accuracy                           0.92     20000\n",
      "   macro avg       0.88      0.86      0.87     20000\n",
      "weighted avg       0.92      0.92      0.92     20000\n",
      "\n"
     ]
    }
   ],
   "source": [
    "from sklearn.model_selection import train_test_split, KFold, cross_val_score\n",
    "from sklearn.linear_model import LogisticRegression\n",
    "from sklearn.metrics import classification_report, accuracy_score\n",
    "from sklearn.preprocessing import StandardScaler\n",
    "from sklearn.preprocessing import LabelEncoder\n",
    "import numpy as np\n",
    "\n",
    "\n",
    "# Ensure the data is loaded correctly and 'Efficiency_Status' is a column\n",
    "# Define features and target variables\n",
    "X = manufacturing_df.drop('Efficiency_Status', axis=1)\n",
    "y = manufacturing_df['Efficiency_Status']\n",
    "\n",
    "# Make sure categorical target 'Efficiency_Status' is encoded properly\n",
    "# If it is not encoded, you can convert the target variable to numerical values (e.g., via LabelEncoder)\n",
    "label_encoder = LabelEncoder()\n",
    "y = label_encoder.fit_transform(y)\n",
    "\n",
    "# Scale the features, important for logistic regression\n",
    "scaler = StandardScaler()\n",
    "X_scaled = scaler.fit_transform(X)\n",
    "\n",
    "# Split the data into training and testing sets\n",
    "X_train, X_test, y_train, y_test = train_test_split(X_scaled, y, test_size=0.2, random_state=42)\n",
    "\n",
    "# Initialize the Logistic Regression model with the desired parameters\n",
    "log_reg_model = LogisticRegression(max_iter=2000, solver='lbfgs')\n",
    "\n",
    "# Create a 10-fold cross-validation object\n",
    "kfold = KFold(n_splits=10, shuffle=True, random_state=42)\n",
    "\n",
    "# Perform cross-validation using cross_val_score to get accuracy scores\n",
    "cv_scores = cross_val_score(log_reg_model, X_train, y_train, cv=kfold, scoring='accuracy')\n",
    "\n",
    "# Print the final cross-validation results (mean and std)\n",
    "print(f'Final cross-validation accuracy: {cv_scores.mean() * 100:.2f}%')\n",
    "print(f'Standard deviation of accuracy: {cv_scores.std() * 100:.2f}%')\n",
    "\n",
    "# Train the model on the entire training set (for final evaluation)\n",
    "log_reg_model.fit(X_train, y_train)\n",
    "\n",
    "# Make predictions on the test set\n",
    "y_pred = log_reg_model.predict(X_test)\n",
    "\n",
    "# Evaluate the model performance on the test set\n",
    "test_accuracy = accuracy_score(y_test, y_pred)\n",
    "print(f'Test set accuracy: {test_accuracy * 100:.2f}%')\n",
    "\n",
    "# Display the classification report\n",
    "print(classification_report(y_test, y_pred))\n"
   ]
  },
  {
   "cell_type": "markdown",
   "id": "dc8921c7",
   "metadata": {},
   "source": [
    "## Confusion Matrix"
   ]
  },
  {
   "cell_type": "code",
   "execution_count": 40,
   "id": "83827fde",
   "metadata": {},
   "outputs": [
    {
     "data": {
      "image/png": "[encoded data removed]",
      "text/plain": [
       "<Figure size 800x600 with 2 Axes>"
      ]
     },
     "metadata": {},
     "output_type": "display_data"
    },
    {
     "name": "stdout",
     "output_type": "stream",
     "text": [
      "Accuracy: 0.9167\n",
      "Precision: 0.8800200507034456\n",
      "Recall: 0.855545112085866\n",
      "F1 Score: 0.8673885513603\n"
     ]
    }
   ],
   "source": [
    "import matplotlib.pyplot as plt\n",
    "import seaborn as sns\n",
    "from sklearn.metrics import confusion_matrix\n",
    "from sklearn.metrics import accuracy_score, classification_report, precision_score, recall_score, f1_score\n",
    "\n",
    "# Get confusion matrix\n",
    "y_true = y_test\n",
    "y_pred = log_reg_model.predict(X_test)\n",
    "cm = confusion_matrix(y_true, y_pred)\n",
    "\n",
    "# Plotting confusion matrix\n",
    "plt.figure(figsize=(8, 6))\n",
    "sns.heatmap(cm, annot=True, fmt=\"d\", cmap=\"Blues\", xticklabels=[\"High\", \"Low\", \"Medium\"], yticklabels=[\"High\", \"Low\", \"Medium\"])\n",
    "plt.title(\"Confusion Matrix\")\n",
    "plt.xlabel(\"Predicted Label\")\n",
    "plt.ylabel(\"True Label\")\n",
    "plt.show()\n",
    "\n",
    "# print accuracy, precision, recall, f1 score\n",
    "print(\"Accuracy:\", accuracy_score(y_true, y_pred))\n",
    "print(\"Precision:\", precision_score(y_true, y_pred, average='macro'))\n",
    "print(\"Recall:\", recall_score(y_true, y_pred, average='macro'))\n",
    "print(\"F1 Score:\", f1_score(y_true, y_pred, average='macro'))\n"
   ]
  },
  {
   "cell_type": "code",
   "execution_count": 41,
   "id": "97ba8fba",
   "metadata": {},
   "outputs": [
    {
     "name": "stdout",
     "output_type": "stream",
     "text": [
      "              precision    recall  f1-score   support\n",
      "\n",
      "           0       0.89      0.84      0.87       625\n",
      "           1       0.95      0.96      0.95     15464\n",
      "           2       0.80      0.77      0.78      3911\n",
      "\n",
      "    accuracy                           0.92     20000\n",
      "   macro avg       0.88      0.86      0.87     20000\n",
      "weighted avg       0.92      0.92      0.92     20000\n",
      "\n"
     ]
    }
   ],
   "source": [
    "# Logit regression results\n",
    "print(classification_report(y_test, y_pred))\n",
    "\n"
   ]
  },
  {
   "cell_type": "code",
   "execution_count": 42,
   "id": "c8401895",
   "metadata": {},
   "outputs": [
    {
     "data": {
      "image/png": "[encoded data removed]",
      "text/plain": [
       "<Figure size 1000x600 with 1 Axes>"
      ]
     },
     "metadata": {},
     "output_type": "display_data"
    }
   ],
   "source": [
    "# Get coefficients and feature names\n",
    "coefficients = log_reg_model.coef_[0]\n",
    "feature_names = X.columns\n",
    "\n",
    "# Sort coefficients by magnitude\n",
    "sorted_idx = coefficients.argsort()\n",
    "\n",
    "# Plot feature coefficients\n",
    "plt.figure(figsize=(10, 6))\n",
    "plt.barh(range(len(sorted_idx)), coefficients[sorted_idx], align=\"center\")\n",
    "plt.yticks(range(len(sorted_idx)), [feature_names[i] for i in sorted_idx])\n",
    "plt.title('Feature Coefficients for Logistic Regression')\n",
    "plt.xlabel('Coefficient Value')\n",
    "plt.ylabel('Feature')\n",
    "plt.show()\n"
   ]
  },
  {
   "cell_type": "code",
   "execution_count": 43,
   "id": "0d08e7b6",
   "metadata": {},
   "outputs": [
    {
     "data": {
      "image/png": "[encoded data removed]",
      "text/plain": [
       "<Figure size 800x600 with 1 Axes>"
      ]
     },
     "metadata": {},
     "output_type": "display_data"
    }
   ],
   "source": [
    "# Get predicted probabilities\n",
    "y_prob = log_reg_model.predict_proba(X_test)\n",
    "\n",
    "# Plot distribution of predicted probabilities for each class\n",
    "plt.figure(figsize=(8, 6))\n",
    "for i, class_name in enumerate(log_reg_model.classes_):\n",
    "    plt.hist(y_prob[:, i], bins=20, alpha=0.5, label=f'Class {class_name}')\n",
    "\n",
    "plt.title(\"Distribution of Predicted Probabilities\")\n",
    "plt.xlabel(\"Predicted Probability\")\n",
    "plt.ylabel(\"Frequency\")\n",
    "plt.legend(loc=\"best\")\n",
    "plt.show()\n"
   ]
  },
  {
   "cell_type": "markdown",
   "id": "c06a4a14",
   "metadata": {},
   "source": [
    "# Random Forest Regression"
   ]
  },
  {
   "cell_type": "markdown",
   "id": "5249aad6",
   "metadata": {},
   "source": [
    "What Might Be a Problem\n",
    "This level of performance (especially zero misclassifications for classes 0 and 2) is very unusual in real-world ML tasks with imbalanced, ordinal data.\n",
    "\n",
    "Potential Explanations:\n",
    "Low model capacity (max_depth=5) might be overfitting to your feature patterns in a way that generalizes well on this test set, but may not elsewhere.\n",
    "\n",
    "Leakage or very clean data — if your features directly reflect the label or if the data distribution is unusually separable.\n",
    "\n",
    "Data leakage could be present (e.g., derived features too close to the label).\n",
    "\n",
    "Test set similarity — if the train-test split results in similar distributions with little randomness, performance can appear inflated."
   ]
  },
  {
   "cell_type": "code",
   "execution_count": 44,
   "id": "6ae3969d",
   "metadata": {},
   "outputs": [
    {
     "name": "stdout",
     "output_type": "stream",
     "text": [
      "Stratified Cross-validation accuracy: 88.88%\n",
      "Stratified Cross-validation std: 0.22%\n",
      "Test Accuracy: 89.24%\n",
      "Confusion Matrix:\n",
      "[[  625     0     0]\n",
      " [    0 13313  2151]\n",
      " [    0     0  3911]]\n"
     ]
    },
    {
     "data": {
      "image/png": "[encoded data removed]",
      "text/plain": [
       "<Figure size 800x600 with 2 Axes>"
      ]
     },
     "metadata": {},
     "output_type": "display_data"
    },
    {
     "name": "stdout",
     "output_type": "stream",
     "text": [
      "              precision    recall  f1-score   support\n",
      "\n",
      "           0       1.00      1.00      1.00       625\n",
      "           1       1.00      0.86      0.93     15464\n",
      "           2       0.65      1.00      0.78      3911\n",
      "\n",
      "    accuracy                           0.89     20000\n",
      "   macro avg       0.88      0.95      0.90     20000\n",
      "weighted avg       0.93      0.89      0.90     20000\n",
      "\n"
     ]
    }
   ],
   "source": [
    "from sklearn.ensemble import RandomForestClassifier\n",
    "from sklearn.model_selection import train_test_split, StratifiedKFold, cross_val_score\n",
    "from sklearn.preprocessing import StandardScaler, LabelEncoder\n",
    "from sklearn.metrics import accuracy_score, confusion_matrix, classification_report\n",
    "import numpy as np\n",
    "import matplotlib.pyplot as plt\n",
    "import seaborn as sns\n",
    "\n",
    "# Prepare features and target\n",
    "X = manufacturing_df.drop('Efficiency_Status', axis=1)\n",
    "y = manufacturing_df['Efficiency_Status']\n",
    "\n",
    "# Encode categorical target\n",
    "label_encoder = LabelEncoder()\n",
    "y = label_encoder.fit_transform(y)\n",
    "\n",
    "# Feature scaling\n",
    "scaler = StandardScaler()\n",
    "X_scaled = scaler.fit_transform(X)\n",
    "\n",
    "# Train-test split\n",
    "X_train, X_test, y_train, y_test = train_test_split(X_scaled, y, test_size=0.2, random_state=42)\n",
    "\n",
    "# Create a RandomForestClassifier with class weights\n",
    "rf_clf = RandomForestClassifier(\n",
    "    n_estimators=100,        # Number of trees\n",
    "    max_depth=5,             # Limit tree depth\n",
    "    min_samples_split=2,     # Minimum samples required to split a node\n",
    "    min_samples_leaf=2,      # Minimum samples required to be a leaf node\n",
    "    class_weight='balanced', # Automatically adjust weights inversely proportional to class frequencies\n",
    "    random_state=42\n",
    ")\n",
    "\n",
    "# Using StratifiedKFold for cross-validation to ensure balanced class distribution in folds\n",
    "skf = StratifiedKFold(n_splits=5, shuffle=True, random_state=42)\n",
    "\n",
    "# Perform cross-validation using cross_val_score to get accuracy scores\n",
    "cv_scores = cross_val_score(rf_clf, X_train, y_train, cv=skf, scoring='accuracy')\n",
    "\n",
    "# Print the final cross-validation results (mean and std)\n",
    "print(f'Stratified Cross-validation accuracy: {cv_scores.mean() * 100:.2f}%')\n",
    "print(f'Stratified Cross-validation std: {cv_scores.std() * 100:.2f}%')\n",
    "\n",
    "# Train the model on the entire training set (for final evaluation)\n",
    "rf_clf.fit(X_train, y_train)\n",
    "y_pred = rf_clf.predict(X_test)\n",
    "\n",
    "# Check accuracy on test set\n",
    "print(f\"Test Accuracy: {accuracy_score(y_test, y_pred) * 100:.2f}%\")\n",
    "\n",
    "# Confusion Matrix\n",
    "cm = confusion_matrix(y_test, y_pred)\n",
    "\n",
    "# Print the confusion matrix\n",
    "print(\"Confusion Matrix:\")\n",
    "print(cm)\n",
    "\n",
    "# Plot confusion matrix\n",
    "plt.figure(figsize=(8, 6))\n",
    "sns.heatmap(cm, annot=True, fmt='g', cmap='Blues', xticklabels=label_encoder.classes_, yticklabels=label_encoder.classes_)\n",
    "plt.xlabel('Predicted')\n",
    "plt.ylabel('True')\n",
    "plt.title('Confusion Matrix with Class Weighting and Cross-validation')\n",
    "plt.show()\n",
    "\n",
    "# Classification report\n",
    "print(classification_report(y_test, y_pred))\n"
   ]
  },
  {
   "cell_type": "code",
   "execution_count": null,
   "id": "a21795b4",
   "metadata": {},
   "outputs": [
    {
     "data": {
      "image/png": "[encoded data removed]",
      "text/plain": [
       "<Figure size 1000x600 with 1 Axes>"
      ]
     },
     "metadata": {},
     "output_type": "display_data"
    }
   ],
   "source": [
    "from sklearn.inspection import permutation_importance\n",
    "import matplotlib.pyplot as plt\n",
    "\n",
    "# Make sure your model is already trained (which it is)\n",
    "result = permutation_importance(\n",
    "    rf_clf, X_test, y_test,\n",
    "    n_repeats=10,\n",
    "    random_state=42,\n",
    "    scoring='accuracy'\n",
    ")\n",
    "\n",
    "# Get sorted indices for plotting\n",
    "sorted_idx = result.importances_mean.argsort()\n",
    "\n",
    "# Plot the results\n",
    "plt.figure(figsize=(10, 6))\n",
    "plt.barh(range(len(sorted_idx)), result.importances_mean[sorted_idx], align='center')\n",
    "plt.yticks(range(len(sorted_idx)), [manufacturing_df.drop(['Efficiency_Status'], axis=1).columns[i] for i in sorted_idx])\n",
    "plt.xlabel(\"Mean Decrease in Accuracy\")\n",
    "plt.title(\"Permutation Importance of Features (Random Forest)\")\n",
    "plt.tight_layout()\n",
    "plt.show()\n"
   ]
  },
  {
   "cell_type": "code",
   "execution_count": null,
   "id": "9cc3dc4f",
   "metadata": {},
   "outputs": [
    {
     "name": "stdout",
     "output_type": "stream",
     "text": [
      "\n",
      "Top Permutation Importances:\n",
      "                      Feature  Mean Importance  Std Deviation\n",
      "                 Error_Rate_%         0.314125       0.002346\n",
      "Production_Speed_units_per_hr         0.038355       0.000692\n",
      " Predictive_Maintenance_Score         0.000130       0.000105\n",
      "         Power_Consumption_kW         0.000125       0.000096\n",
      "                Temperature_C         0.000085       0.000081\n",
      "                   Machine_ID         0.000080       0.000068\n",
      "                 Vibration_Hz         0.000010       0.000070\n",
      "                  day_of_week         0.000000       0.000032\n",
      "   Operation_Mode_Maintenance         0.000000       0.000000\n",
      "          Operation_Mode_Idle        -0.000010       0.000020\n",
      "                       minute        -0.000025       0.000103\n",
      "                   is_weekend        -0.000040       0.000030\n",
      "                Packet_Loss_%        -0.000040       0.000132\n",
      "                        month        -0.000045       0.000047\n",
      "                         hour        -0.000050       0.000055\n",
      "Quality_Control_Defect_Rate_%        -0.000070       0.000108\n",
      "           Network_Latency_ms        -0.000100       0.000107\n"
     ]
    }
   ],
   "source": [
    "from sklearn.inspection import permutation_importance\n",
    "import pandas as pd\n",
    "\n",
    "# Run permutation importance\n",
    "result = permutation_importance(\n",
    "    rf_clf, X_test, y_test,\n",
    "    n_repeats=10,\n",
    "    random_state=42,\n",
    "    scoring='accuracy'\n",
    ")\n",
    "\n",
    "# Get feature names (drop target and timestamp if included)\n",
    "feature_names = manufacturing_df.drop(['Efficiency_Status'], axis=1).columns\n",
    "\n",
    "# Create a DataFrame with results\n",
    "importance_df = pd.DataFrame({\n",
    "    'Feature': feature_names,\n",
    "    'Mean Importance': result.importances_mean,\n",
    "    'Std Deviation': result.importances_std\n",
    "}).sort_values(by='Mean Importance', ascending=False)\n",
    "\n",
    "# Print the top features\n",
    "print(\"\\nTop Permutation Importances:\")\n",
    "print(importance_df.to_string(index=False))\n"
   ]
  }
 ],
 "metadata": {
  "kernelspec": {
   "display_name": "base",
   "language": "python",
   "name": "python3"
  },
  "language_info": {
   "codemirror_mode": {
    "name": "ipython",
    "version": 3
   },
   "file_extension": ".py",
   "mimetype": "text/x-python",
   "name": "python",
   "nbconvert_exporter": "python",
   "pygments_lexer": "ipython3",
   "version": "3.12.2"
  }
 },
 "nbformat": 4,
 "nbformat_minor": 5
}
